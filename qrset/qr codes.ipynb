{
 "cells": [
  {
   "cell_type": "markdown",
   "metadata": {},
   "source": [
    "# QR code challenge\n",
    "\n",
    "In this notebook, we generate QR codes with the help of [PyQRCode](http://pythonhosted.org/PyQRCode/). We create what you might call a syntetic dataset of QR images, i.e. the messages are random strings and the images come directly from a QR generator. \n",
    "\n",
    "\n",
    "We make use of the image processing capabilities of [scikit-image](http://scikit-image.org/) to rescale and transform QR code images. Check the website to see what other cool effects you can add to your QR code images.\n",
    "\n",
    "\n",
    "\n",
    "## Deep learning challenges\n",
    "\n",
    "The QR dataset can be of interest to beginning deep learning practitioners.\n",
    "- Exposure to image processing\n",
    "- Easy entrance: QR codes are designed to be read my machine\n",
    "- Not a heavy problem, so no GPU required\n",
    "- Different architectures possible / needed\n",
    "- Problem can be modified easily\n",
    "\n",
    "Here are some neural network architectures that can be used\n",
    "- Fully connected neural network (How do you deal with messages of varying size?)\n",
    "- Convolutional network (Can you make the network more efficient?)\n",
    "- Recurrent neural networks (Can you deal with messages of varying size?)\n",
    "- Attention mechanism? (Can you deal with input images of varying size?)\n",
    "- Compression (What is the smallest network you can get working?)\n",
    "\n",
    "And some more questions you may consider\n",
    "- Can you achieve 100% accuracy on a test set?\n",
    "- Can you make your network resilient to distortions?\n",
    "- What is the minimal number of original data points you need to train your network?\n",
    "- Can you give the QR codes an artistic touch, and build a decoder that deals with that?\n"
   ]
  },
  {
   "cell_type": "markdown",
   "metadata": {},
   "source": [
    "## Example code\n",
    "\n",
    "Below you see several code examples involving the generation of QR codes and datasets of QR codes."
   ]
  },
  {
   "cell_type": "markdown",
   "metadata": {},
   "source": [
    "### Dependencies"
   ]
  },
  {
   "cell_type": "code",
   "execution_count": 1,
   "metadata": {
    "collapsed": false
   },
   "outputs": [
    {
     "name": "stderr",
     "output_type": "stream",
     "text": [
      "/opt/conda/lib/python3.5/site-packages/matplotlib/font_manager.py:273: UserWarning: Matplotlib is building the font cache using fc-list. This may take a moment.\n",
      "  warnings.warn('Matplotlib is building the font cache using fc-list. This may take a moment.')\n",
      "/opt/conda/lib/python3.5/site-packages/matplotlib/font_manager.py:273: UserWarning: Matplotlib is building the font cache using fc-list. This may take a moment.\n",
      "  warnings.warn('Matplotlib is building the font cache using fc-list. This may take a moment.')\n"
     ]
    }
   ],
   "source": [
    "%load_ext autoreload\n",
    "%autoreload 2\n",
    "%matplotlib inline\n",
    "import matplotlib.pyplot as plt\n",
    "import os\n",
    "import numpy as np\n",
    "import string\n",
    "import pyqrcode\n",
    "import pandas as pd\n",
    "from qrset import random_messages, ALPHABET, generate_messages, \\\n",
    "     generate_png, generate_messages_png, load_qr_set,\\\n",
    "     generate_qr_array\n",
    "from IPython.display import Image\n",
    "from skimage import data\n",
    "from skimage.transform import resize\n",
    "DATA_FOLDER = 'data'"
   ]
  },
  {
   "cell_type": "markdown",
   "metadata": {},
   "source": [
    "### QR Codes with Python"
   ]
  },
  {
   "cell_type": "markdown",
   "metadata": {},
   "source": [
    "With QR, you can encode small messages and long messages:"
   ]
  },
  {
   "cell_type": "code",
   "execution_count": 2,
   "metadata": {
    "collapsed": false
   },
   "outputs": [
    {
     "data": {
      "image/png": "[encoded data removed]",
      "text/plain": [
       "<IPython.core.display.Image object>"
      ]
     },
     "execution_count": 2,
     "metadata": {},
     "output_type": "execute_result"
    }
   ],
   "source": [
    "short_code = pyqrcode.create('b')\n",
    "short_code.png('small_qr.png', scale=8)\n",
    "Image('small_qr.png')"
   ]
  },
  {
   "cell_type": "markdown",
   "metadata": {},
   "source": [
    "A QR messages can contain up to a few thousend characters. The number of characters depends on the QR version, on the amount of error correction used, and on the type of data encoded. This is an example of a longer message:"
   ]
  },
  {
   "cell_type": "code",
   "execution_count": 3,
   "metadata": {
    "collapsed": false
   },
   "outputs": [
    {
     "data": {
      "image/png": "[encoded data removed]",
      "text/plain": [
       "<IPython.core.display.Image object>"
      ]
     },
     "execution_count": 3,
     "metadata": {},
     "output_type": "execute_result"
    }
   ],
   "source": [
    "newsgroup = \"The 20 Newsgroups data set is a collection of approximately 20,000 newsgroup documents, partitioned (nearly) evenly across 20 different newsgroups. To the best of our knowledge, it was originally collected by Ken Lang, probably for his paper 'Newsweeder: Learning to filter netnews,' though he does not explicitly mention this collection. The 20 newsgroups collection has become a popular data set for experiments in text applications of machine learning techniques, such as text classification and text clustering.\"\n",
    "long_code = pyqrcode.create(newsgroup)\n",
    "long_code.png('small_qr.png', scale=2)\n",
    "Image('small_qr.png')"
   ]
  },
  {
   "cell_type": "markdown",
   "metadata": {},
   "source": [
    "### Encoding messages\n",
    "\n",
    "The PyQRCode module implements various ways to encode QR codes. It offers serveral image formats like `png`, `svg`, and `eps`, and it supports a text format:"
   ]
  },
  {
   "cell_type": "code",
   "execution_count": 4,
   "metadata": {
    "collapsed": false
   },
   "outputs": [
    {
     "data": {
      "text/plain": [
       "'00000000000000000000000000000\\n00000000000000000000000000000\\n00000000000000000000000000000\\n00000000000000000000000000000\\n00001111111010000011111110000\\n00001000001000001010000010000\\n00001011101010110010111010000\\n00001011101000111010111010000\\n00001011101011011010111010000\\n00001000001000011010000010000\\n00001111111010101011111110000\\n00000000000010111000000000000\\n00000000011001100010101010000\\n00001101100100001101110010000\\n00001010001010010011000000000\\n00000101100010100101010010000\\n00000100011101011101111110000\\n00000000000011010000001010000\\n00001111111001001010111100000\\n00001000001010100100001110000\\n00001011101000100000111000000\\n00001011101000111001010000000\\n00001011101000101111110110000\\n00001000001001000011010000000\\n00001111111001011011001100000\\n00000000000000000000000000000\\n00000000000000000000000000000\\n00000000000000000000000000000\\n00000000000000000000000000000\\n'"
      ]
     },
     "execution_count": 4,
     "metadata": {},
     "output_type": "execute_result"
    }
   ],
   "source": [
    "short_code.text()"
   ]
  },
  {
   "cell_type": "markdown",
   "metadata": {},
   "source": [
    "### Random messages\n",
    "\n",
    "For supervised learning, we will need a large collection of annotated QR codes. This colleciton we will use to train  the learning algorithm. We generate syntetic messages as random strings from an alphabet. These messages are then used to generate QR code images. "
   ]
  },
  {
   "cell_type": "code",
   "execution_count": 5,
   "metadata": {
    "collapsed": false
   },
   "outputs": [
    {
     "name": "stdout",
     "output_type": "stream",
     "text": [
      "abcdefghijklmnopqrstuvwxyzABCDEFGHIJKLMNOPQRSTUVWXYZ!\"#$%&'()*+,-./:;<=>?@[\\]^_`{|}~\n"
     ]
    }
   ],
   "source": [
    "print(ALPHABET)"
   ]
  },
  {
   "cell_type": "code",
   "execution_count": 6,
   "metadata": {
    "collapsed": false
   },
   "outputs": [
    {
     "data": {
      "text/plain": [
       "['\\\\-A&]lZI?fv', '-kiV;pjVN', ';seCth', 'fm$~!xS^#yV_F=']"
      ]
     },
     "execution_count": 6,
     "metadata": {},
     "output_type": "execute_result"
    }
   ],
   "source": [
    "random_messages(4, 20, ALPHABET)"
   ]
  },
  {
   "cell_type": "markdown",
   "metadata": {},
   "source": [
    "### Write a dataset of syntetic QR code images to disk\n",
    "\n",
    "If you want to use the syntetic QR code dataset with a language other then Python, it may be helpfull to save it to disk. Here is how you can generate dataset of QR codes using the QRSet module:"
   ]
  },
  {
   "cell_type": "code",
   "execution_count": 7,
   "metadata": {
    "collapsed": false
   },
   "outputs": [],
   "source": [
    "generate_messages_png(1000, 50, DATA_FOLDER + '/1Ksize50', variable_length=False)"
   ]
  },
  {
   "cell_type": "code",
   "execution_count": 8,
   "metadata": {
    "collapsed": true
   },
   "outputs": [],
   "source": [
    "# generate_messages_png(10000, 50, DATA_FOLDER + '/10Ksize50', variable_length=False)"
   ]
  },
  {
   "cell_type": "markdown",
   "metadata": {},
   "source": [
    "As you will notice, these statements take quite some time to finish. This are not verry effiecient. If you are using Python, it is recommended to use generaters. See one of the sections below.\n",
    "\n",
    "\n",
    "Note that the random string messages generated here are of fixed size (50 characters). You can vary the size of the messages, but then the png images that are generated will vary in size too (number of pixels is lager for longer messages). You can adapt the code of `qrset.py` to include rescaling of the png images to fixed dimensions, if you want to."
   ]
  },
  {
   "cell_type": "markdown",
   "metadata": {},
   "source": [
    "### Read QR code image dataset from disk\n",
    "\n",
    "Allthough slow, you might want to read images from disk with Python. Here is a code example."
   ]
  },
  {
   "cell_type": "code",
   "execution_count": 9,
   "metadata": {
    "collapsed": false
   },
   "outputs": [],
   "source": [
    "input_dir = DATA_FOLDER + '/1Ksize50'\n",
    "data = load_qr_set(input_dir)"
   ]
  },
  {
   "cell_type": "code",
   "execution_count": 10,
   "metadata": {
    "collapsed": false
   },
   "outputs": [
    {
     "data": {
      "text/html": [
       "<div>\n",
       "<table border=\"1\" class=\"dataframe\">\n",
       "  <thead>\n",
       "    <tr style=\"text-align: right;\">\n",
       "      <th></th>\n",
       "      <th>y</th>\n",
       "      <th>x</th>\n",
       "    </tr>\n",
       "  </thead>\n",
       "  <tbody>\n",
       "    <tr>\n",
       "      <th>0</th>\n",
       "      <td>i(v*+M.D@ixp*LVw&lt;~J:BE]kGfWX</td>\n",
       "      <td>[[255, 255, 255, 255, 255, 255, 255, 255, 255,...</td>\n",
       "    </tr>\n",
       "    <tr>\n",
       "      <th>1</th>\n",
       "      <td>J)gdw?N)ZXRo/gsk~V,&lt;*E</td>\n",
       "      <td>[[255, 255, 255, 255, 255, 255, 255, 255, 255,...</td>\n",
       "    </tr>\n",
       "    <tr>\n",
       "      <th>2</th>\n",
       "      <td>o-~M[)Fp`+;:\\;\\O_{s{j=HwGXXO#Q+*[|l+S(LO.Km)$</td>\n",
       "      <td>[[255, 255, 255, 255, 255, 255, 255, 255, 255,...</td>\n",
       "    </tr>\n",
       "    <tr>\n",
       "      <th>3</th>\n",
       "      <td>lEhpy</td>\n",
       "      <td>[[255, 255, 255, 255, 255, 255, 255, 255, 255,...</td>\n",
       "    </tr>\n",
       "    <tr>\n",
       "      <th>4</th>\n",
       "      <td>evAi+GbE-=?&lt;J/QeQNxpf-</td>\n",
       "      <td>[[255, 255, 255, 255, 255, 255, 255, 255, 255,...</td>\n",
       "    </tr>\n",
       "  </tbody>\n",
       "</table>\n",
       "</div>"
      ],
      "text/plain": [
       "                                               y  \\\n",
       "0                   i(v*+M.D@ixp*LVw<~J:BE]kGfWX   \n",
       "1                         J)gdw?N)ZXRo/gsk~V,<*E   \n",
       "2  o-~M[)Fp`+;:\\;\\O_{s{j=HwGXXO#Q+*[|l+S(LO.Km)$   \n",
       "3                                          lEhpy   \n",
       "4                         evAi+GbE-=?<J/QeQNxpf-   \n",
       "\n",
       "                                                   x  \n",
       "0  [[255, 255, 255, 255, 255, 255, 255, 255, 255,...  \n",
       "1  [[255, 255, 255, 255, 255, 255, 255, 255, 255,...  \n",
       "2  [[255, 255, 255, 255, 255, 255, 255, 255, 255,...  \n",
       "3  [[255, 255, 255, 255, 255, 255, 255, 255, 255,...  \n",
       "4  [[255, 255, 255, 255, 255, 255, 255, 255, 255,...  "
      ]
     },
     "execution_count": 10,
     "metadata": {},
     "output_type": "execute_result"
    }
   ],
   "source": [
    "data.head()"
   ]
  },
  {
   "cell_type": "markdown",
   "metadata": {},
   "source": [
    "## Create a dataset of syntetic QR code images on the fly\n",
    "\n",
    "You can save a lot of time by skipping the write+read to disk. When you use Python for processing a dataset of QR images, generators are the preferred method.\n",
    "\n",
    "The function `generate_qr_array` returns a numpy array of fixed shape. In order to arrive at a fixed shape, all images are resized to a pre-defined shape, in this case 30 by 30 pixels. \n",
    "\n",
    "Check section fit_generator in [keras sequential model documentation](https://keras.io/models/sequential/)"
   ]
  },
  {
   "cell_type": "code",
   "execution_count": 11,
   "metadata": {
    "collapsed": false
   },
   "outputs": [],
   "source": [
    "arr = generate_qr_array('hi', image_shape=(30,30))"
   ]
  },
  {
   "cell_type": "code",
   "execution_count": 12,
   "metadata": {
    "collapsed": false
   },
   "outputs": [
    {
     "data": {
      "text/plain": [
       "(30, 30)"
      ]
     },
     "execution_count": 12,
     "metadata": {},
     "output_type": "execute_result"
    }
   ],
   "source": [
    "arr.shape"
   ]
  },
  {
   "cell_type": "code",
   "execution_count": 13,
   "metadata": {
    "collapsed": false
   },
   "outputs": [
    {
     "data": {
      "text/plain": [
       "array([[ 0.96694444,  0.98333333,  0.98333333,  0.98333333,  0.98333333,\n",
       "         0.98333333,  0.98333333,  0.98333333,  0.98333333,  0.98333333,\n",
       "         0.98333333,  0.98333333,  0.98333333,  0.98333333,  0.98333333,\n",
       "         0.98333333,  0.98333333,  0.98333333,  0.98333333,  0.98333333,\n",
       "         0.98333333,  0.98333333,  0.98333333,  0.98333333,  0.98333333,\n",
       "         0.98333333,  0.98333333,  0.98333333,  0.98333333,  0.96694444],\n",
       "       [ 0.98333333,  1.        ,  1.        ,  1.        ,  1.        ,\n",
       "         1.        ,  1.        ,  1.        ,  1.        ,  1.        ,\n",
       "         1.        ,  1.        ,  1.        ,  1.        ,  1.        ,\n",
       "         1.        ,  1.        ,  1.        ,  1.        ,  1.        ,\n",
       "         1.        ,  1.        ,  1.        ,  1.        ,  1.        ,\n",
       "         1.        ,  1.        ,  1.        ,  1.        ,  0.98333333]])"
      ]
     },
     "execution_count": 13,
     "metadata": {},
     "output_type": "execute_result"
    }
   ],
   "source": [
    "arr[0:2]"
   ]
  },
  {
   "cell_type": "code",
   "execution_count": 14,
   "metadata": {
    "collapsed": false
   },
   "outputs": [
    {
     "data": {
      "text/plain": [
       "<matplotlib.image.AxesImage at 0x7f7413853908>"
      ]
     },
     "execution_count": 14,
     "metadata": {},
     "output_type": "execute_result"
    },
    {
     "data": {
      "image/png": "[encoded data removed]",
      "text/plain": [
       "<matplotlib.figure.Figure at 0x7f7413db9748>"
      ]
     },
     "metadata": {},
     "output_type": "display_data"
    }
   ],
   "source": [
    "plt.imshow(arr, cmap=plt.cm.gray)\n",
    "# Todo: provide options to imshow to display a sharp image"
   ]
  },
  {
   "cell_type": "markdown",
   "metadata": {},
   "source": [
    "### Generator for Keras\n",
    "\n",
    "This is a start for writing your own generator, to be used with Keras."
   ]
  },
  {
   "cell_type": "code",
   "execution_count": 15,
   "metadata": {
    "collapsed": false
   },
   "outputs": [],
   "source": [
    "message_length = 100\n",
    "alphabet = ALPHABET\n",
    "def qr_factory(message_length, alphabet=ALPHABET, variable_length=True, image_shape=(100,100)):\n",
    "    while 1:\n",
    "        message = random_messages(1, message_length, alphabet=alphabet, variable_length=False)\n",
    "        arr = generate_qr_array('hi', image_shape=image_shape)\n",
    "        ascii_array = np.array([ord(c)/255 for c in message[0]])\n",
    "        yield (arr.flatten()[np.newaxis,:], ascii_array[np.newaxis,:])"
   ]
  },
  {
   "cell_type": "code",
   "execution_count": 16,
   "metadata": {
    "collapsed": false
   },
   "outputs": [
    {
     "name": "stdout",
     "output_type": "stream",
     "text": [
      "abcdefghijklmnopqrstuvwxyzABCDEFGHIJKLMNOPQRSTUVWXYZ!\"#$%&'()*+,-./:;<=>?@[\\]^_`{|}~\n"
     ]
    }
   ],
   "source": [
    "print(ALPHABET)"
   ]
  },
  {
   "cell_type": "code",
   "execution_count": 17,
   "metadata": {
    "collapsed": false
   },
   "outputs": [],
   "source": [
    "generator = qr_factory((message_length))"
   ]
  },
  {
   "cell_type": "code",
   "execution_count": 18,
   "metadata": {
    "collapsed": false
   },
   "outputs": [
    {
     "name": "stdout",
     "output_type": "stream",
     "text": [
      "(array([[ 0.416025,  0.603075,  0.645   , ...,  0.645   ,  0.603075,\n",
      "         0.416025]]), array([[ 0.31764706,  0.3372549 ,  0.12941176,  0.30980392,  0.27843137,\n",
      "         0.44705882,  0.46666667,  0.36862745,  0.16862745,  0.28235294,\n",
      "         0.49411765,  0.28627451,  0.43921569,  0.44313725,  0.30196078,\n",
      "         0.2627451 ,  0.24705882,  0.40784314,  0.39215686,  0.45098039,\n",
      "         0.32941176,  0.45490196,  0.23921569,  0.4745098 ,  0.45098039,\n",
      "         0.32941176,  0.28235294,  0.42745098,  0.25098039,  0.28627451,\n",
      "         0.37647059,  0.44313725,  0.48627451,  0.29019608,  0.36078431,\n",
      "         0.37647059,  0.38431373,  0.18039216,  0.45098039,  0.16862745,\n",
      "         0.45882353,  0.37647059,  0.38823529,  0.43921569,  0.41176471,\n",
      "         0.14901961,  0.41960784,  0.36862745,  0.41176471,  0.34901961,\n",
      "         0.18039216,  0.17254902,  0.40784314,  0.1372549 ,  0.38823529,\n",
      "         0.17254902,  0.22745098,  0.2745098 ,  0.35686275,  0.23137255,\n",
      "         0.35686275,  0.29019608,  0.2745098 ,  0.4627451 ,  0.1372549 ,\n",
      "         0.29411765,  0.28235294,  0.24313725,  0.26666667,  0.2745098 ,\n",
      "         0.44705882,  0.26666667,  0.49411765,  0.37647059,  0.34509804,\n",
      "         0.35294118,  0.43921569,  0.40392157,  0.36862745,  0.14117647,\n",
      "         0.26666667,  0.38823529,  0.14117647,  0.43529412,  0.25882353,\n",
      "         0.23137255,  0.30588235,  0.29803922,  0.39607843,  0.29411765,\n",
      "         0.38039216,  0.3254902 ,  0.39607843,  0.31764706,  0.48627451,\n",
      "         0.4627451 ,  0.25490196,  0.47843137,  0.40392157,  0.31372549]]))\n"
     ]
    }
   ],
   "source": [
    "for m in generator:\n",
    "    print (m)\n",
    "    break"
   ]
  },
  {
   "cell_type": "code",
   "execution_count": 19,
   "metadata": {
    "collapsed": false
   },
   "outputs": [
    {
     "data": {
      "text/plain": [
       "(array([[ 0.416025,  0.603075,  0.645   , ...,  0.645   ,  0.603075,\n",
       "          0.416025]]),\n",
       " array([[ 0.31764706,  0.3372549 ,  0.12941176,  0.30980392,  0.27843137,\n",
       "          0.44705882,  0.46666667,  0.36862745,  0.16862745,  0.28235294,\n",
       "          0.49411765,  0.28627451,  0.43921569,  0.44313725,  0.30196078,\n",
       "          0.2627451 ,  0.24705882,  0.40784314,  0.39215686,  0.45098039,\n",
       "          0.32941176,  0.45490196,  0.23921569,  0.4745098 ,  0.45098039,\n",
       "          0.32941176,  0.28235294,  0.42745098,  0.25098039,  0.28627451,\n",
       "          0.37647059,  0.44313725,  0.48627451,  0.29019608,  0.36078431,\n",
       "          0.37647059,  0.38431373,  0.18039216,  0.45098039,  0.16862745,\n",
       "          0.45882353,  0.37647059,  0.38823529,  0.43921569,  0.41176471,\n",
       "          0.14901961,  0.41960784,  0.36862745,  0.41176471,  0.34901961,\n",
       "          0.18039216,  0.17254902,  0.40784314,  0.1372549 ,  0.38823529,\n",
       "          0.17254902,  0.22745098,  0.2745098 ,  0.35686275,  0.23137255,\n",
       "          0.35686275,  0.29019608,  0.2745098 ,  0.4627451 ,  0.1372549 ,\n",
       "          0.29411765,  0.28235294,  0.24313725,  0.26666667,  0.2745098 ,\n",
       "          0.44705882,  0.26666667,  0.49411765,  0.37647059,  0.34509804,\n",
       "          0.35294118,  0.43921569,  0.40392157,  0.36862745,  0.14117647,\n",
       "          0.26666667,  0.38823529,  0.14117647,  0.43529412,  0.25882353,\n",
       "          0.23137255,  0.30588235,  0.29803922,  0.39607843,  0.29411765,\n",
       "          0.38039216,  0.3254902 ,  0.39607843,  0.31764706,  0.48627451,\n",
       "          0.4627451 ,  0.25490196,  0.47843137,  0.40392157,  0.31372549]]))"
      ]
     },
     "execution_count": 19,
     "metadata": {},
     "output_type": "execute_result"
    }
   ],
   "source": [
    "m"
   ]
  },
  {
   "cell_type": "markdown",
   "metadata": {
    "collapsed": false
   },
   "source": [
    "## Neural networks with Keras\n",
    "\n",
    "The deep learning framework Keras provides an easy interface to get started with deep learning. If offers several types of layers, and it has some handy routines for pre-processing. For image processing, have a look at [Keras image pre-processing documentation](https://keras.io/preprocessing/image/).\n"
   ]
  },
  {
   "cell_type": "code",
   "execution_count": 20,
   "metadata": {
    "collapsed": false
   },
   "outputs": [
    {
     "name": "stderr",
     "output_type": "stream",
     "text": [
      "Using Theano backend.\n"
     ]
    }
   ],
   "source": [
    "import keras\n",
    "from keras.models import Sequential\n",
    "from keras.layers import Dense, Activation, Dropout\n",
    "from keras.optimizers import RMSprop"
   ]
  },
  {
   "cell_type": "markdown",
   "metadata": {
    "collapsed": true
   },
   "source": [
    "### Challenge: fully connected neural network\n",
    "This is the fully connected layer that was presented in the deep learning tutorial of our last meetup. You made it work with hand written images. Now you have to get it work with QR codes. There are some obstacle, though.\n",
    "\n",
    "To begin, the current loss function expect categorial input. You may want to re-think both the architecture, the target format and the loss function. After adapting the model, the generator also needs to be update.\n",
    "\n",
    "\n",
    "Challenge: make this architecture learn to read QR code images. \n",
    "\n",
    "2. Choose the right loss function\n",
    "3. Adapt the architecture if needed\n",
    "1. Repair the QR code generator from the above section\n",
    "3. Train the model"
   ]
  },
  {
   "cell_type": "code",
   "execution_count": 21,
   "metadata": {
    "collapsed": true
   },
   "outputs": [],
   "source": [
    "generator = qr_factory((message_length), image_shape=(30,30))"
   ]
  },
  {
   "cell_type": "code",
   "execution_count": 22,
   "metadata": {
    "collapsed": false
   },
   "outputs": [
    {
     "name": "stdout",
     "output_type": "stream",
     "text": [
      "100\n"
     ]
    }
   ],
   "source": [
    "print(message_length)"
   ]
  },
  {
   "cell_type": "code",
   "execution_count": 23,
   "metadata": {
    "collapsed": false
   },
   "outputs": [],
   "source": [
    "model = Sequential()\n",
    "model.add(Dense(512, input_shape=(900,)))\n",
    "model.add(Activation('relu'))\n",
    "model.add(Dropout(0.2))\n",
    "model.add(Dense(256))\n",
    "model.add(Activation('relu'))\n",
    "model.add(Dropout(0.2))\n",
    "model.add(Dense(100))\n",
    "model.add(Activation('softmax'))"
   ]
  },
  {
   "cell_type": "code",
   "execution_count": 24,
   "metadata": {
    "collapsed": false
   },
   "outputs": [],
   "source": [
    "model.compile(loss='categorical_crossentropy',\n",
    "              optimizer=RMSprop(),\n",
    "              metrics=['accuracy'])"
   ]
  },
  {
   "cell_type": "code",
   "execution_count": 25,
   "metadata": {
    "collapsed": false
   },
   "outputs": [
    {
     "name": "stdout",
     "output_type": "stream",
     "text": [
      "Epoch 1/5\n",
      "1/1 [==============================] - 0s - loss: 156.4171 - acc: 0.0000e+00\n",
      "Epoch 2/5\n",
      "1/1 [==============================] - 0s - loss: 179.4590 - acc: 0.0000e+00\n",
      "Epoch 3/5\n",
      "1/1 [==============================] - 0s - loss: 177.9010 - acc: 0.0000e+00\n",
      "Epoch 4/5\n",
      "1/1 [==============================] - 0s - loss: 160.2313 - acc: 0.0000e+00\n",
      "Epoch 5/5\n",
      "1/1 [==============================] - 0s - loss: 167.2841 - acc: 0.0000e+00\n"
     ]
    },
    {
     "data": {
      "text/plain": [
       "<keras.callbacks.History at 0x7f740cc4fa58>"
      ]
     },
     "execution_count": 25,
     "metadata": {},
     "output_type": "execute_result"
    }
   ],
   "source": [
    "model.fit_generator(generator, 1, 5)"
   ]
  },
  {
   "cell_type": "code",
   "execution_count": null,
   "metadata": {
    "collapsed": true
   },
   "outputs": [],
   "source": []
  },
  {
   "cell_type": "code",
   "execution_count": null,
   "metadata": {
    "collapsed": true
   },
   "outputs": [],
   "source": []
  },
  {
   "cell_type": "code",
   "execution_count": null,
   "metadata": {
    "collapsed": true
   },
   "outputs": [],
   "source": []
  }
 ],
 "metadata": {
  "anaconda-cloud": {},
  "kernelspec": {
   "display_name": "Python [Root]",
   "language": "python",
   "name": "Python [Root]"
  },
  "language_info": {
   "codemirror_mode": {
    "name": "ipython",
    "version": 3
   },
   "file_extension": ".py",
   "mimetype": "text/x-python",
   "name": "python",
   "nbconvert_exporter": "python",
   "pygments_lexer": "ipython3",
   "version": "3.5.2"
  }
 },
 "nbformat": 4,
 "nbformat_minor": 0
}
